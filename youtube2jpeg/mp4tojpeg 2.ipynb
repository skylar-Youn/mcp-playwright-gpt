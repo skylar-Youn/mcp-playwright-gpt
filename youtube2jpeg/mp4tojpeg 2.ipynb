{
 "cells": [
  {
   "cell_type": "code",
   "execution_count": 1,
   "metadata": {},
   "outputs": [
    {
     "name": "stdout",
     "output_type": "stream",
     "text": [
      "Collecting opencv-python\n",
      "  Using cached opencv_python-4.10.0.84-cp37-abi3-manylinux_2_17_x86_64.manylinux2014_x86_64.whl.metadata (20 kB)\n",
      "Collecting numpy>=1.21.2 (from opencv-python)\n",
      "  Using cached numpy-2.1.2-cp310-cp310-manylinux_2_17_x86_64.manylinux2014_x86_64.whl.metadata (60 kB)\n",
      "Using cached opencv_python-4.10.0.84-cp37-abi3-manylinux_2_17_x86_64.manylinux2014_x86_64.whl (62.5 MB)\n",
      "Using cached numpy-2.1.2-cp310-cp310-manylinux_2_17_x86_64.manylinux2014_x86_64.whl (16.3 MB)\n",
      "Installing collected packages: numpy, opencv-python\n",
      "Successfully installed numpy-2.1.2 opencv-python-4.10.0.84\n",
      "Note: you may need to restart the kernel to use updated packages.\n"
     ]
    }
   ],
   "source": [
    "%pip install opencv-python\n"
   ]
  },
  {
   "cell_type": "code",
   "execution_count": 3,
   "metadata": {},
   "outputs": [
    {
     "name": "stdout",
     "output_type": "stream",
     "text": [
      "Requirement already satisfied: opencv-python in /home/sk/anaconda3/envs/mp4tojpeg1/lib/python3.10/site-packages (4.10.0.84)\n",
      "Requirement already satisfied: numpy>=1.21.2 in /home/sk/anaconda3/envs/mp4tojpeg1/lib/python3.10/site-packages (from opencv-python) (2.1.2)\n",
      "Note: you may need to restart the kernel to use updated packages.\n"
     ]
    }
   ],
   "source": [
    "\n",
    "%pip install --upgrade opencv-python\n",
    "\n",
    "#sconda create --name mp4tojpeg1 python=3.10.0\n",
    "\n"
   ]
  },
  {
   "cell_type": "code",
   "execution_count": 4,
   "metadata": {},
   "outputs": [
    {
     "name": "stdout",
     "output_type": "stream",
     "text": [
      "Collecting moviepy\n",
      "  Downloading moviepy-1.0.3.tar.gz (388 kB)\n",
      "  Preparing metadata (setup.py) ... \u001b[?25ldone\n",
      "\u001b[?25hCollecting decorator<5.0,>=4.0.2 (from moviepy)\n",
      "  Downloading decorator-4.4.2-py2.py3-none-any.whl.metadata (4.2 kB)\n",
      "Collecting tqdm<5.0,>=4.11.2 (from moviepy)\n",
      "  Downloading tqdm-4.66.6-py3-none-any.whl.metadata (57 kB)\n",
      "Collecting requests<3.0,>=2.8.1 (from moviepy)\n",
      "  Using cached requests-2.32.3-py3-none-any.whl.metadata (4.6 kB)\n",
      "Collecting proglog<=1.0.0 (from moviepy)\n",
      "  Downloading proglog-0.1.10-py3-none-any.whl.metadata (639 bytes)\n",
      "Requirement already satisfied: numpy>=1.17.3 in /home/sk/anaconda3/envs/mp4tojpeg1/lib/python3.10/site-packages (from moviepy) (2.1.2)\n",
      "Collecting imageio<3.0,>=2.5 (from moviepy)\n",
      "  Using cached imageio-2.36.0-py3-none-any.whl.metadata (5.2 kB)\n",
      "Collecting imageio_ffmpeg>=0.2.0 (from moviepy)\n",
      "  Using cached imageio_ffmpeg-0.5.1-py3-none-manylinux2010_x86_64.whl.metadata (1.6 kB)\n",
      "Collecting pillow>=8.3.2 (from imageio<3.0,>=2.5->moviepy)\n",
      "  Downloading pillow-11.0.0-cp310-cp310-manylinux_2_28_x86_64.whl.metadata (9.1 kB)\n",
      "Requirement already satisfied: setuptools in /home/sk/anaconda3/envs/mp4tojpeg1/lib/python3.10/site-packages (from imageio_ffmpeg>=0.2.0->moviepy) (75.1.0)\n",
      "Collecting charset-normalizer<4,>=2 (from requests<3.0,>=2.8.1->moviepy)\n",
      "  Using cached charset_normalizer-3.4.0-cp310-cp310-manylinux_2_17_x86_64.manylinux2014_x86_64.whl.metadata (34 kB)\n",
      "Collecting idna<4,>=2.5 (from requests<3.0,>=2.8.1->moviepy)\n",
      "  Using cached idna-3.10-py3-none-any.whl.metadata (10 kB)\n",
      "Collecting urllib3<3,>=1.21.1 (from requests<3.0,>=2.8.1->moviepy)\n",
      "  Using cached urllib3-2.2.3-py3-none-any.whl.metadata (6.5 kB)\n",
      "Collecting certifi>=2017.4.17 (from requests<3.0,>=2.8.1->moviepy)\n",
      "  Using cached certifi-2024.8.30-py3-none-any.whl.metadata (2.2 kB)\n",
      "Downloading decorator-4.4.2-py2.py3-none-any.whl (9.2 kB)\n",
      "Using cached imageio-2.36.0-py3-none-any.whl (315 kB)\n",
      "Using cached imageio_ffmpeg-0.5.1-py3-none-manylinux2010_x86_64.whl (26.9 MB)\n",
      "Downloading proglog-0.1.10-py3-none-any.whl (6.1 kB)\n",
      "Using cached requests-2.32.3-py3-none-any.whl (64 kB)\n",
      "Downloading tqdm-4.66.6-py3-none-any.whl (78 kB)\n",
      "Using cached certifi-2024.8.30-py3-none-any.whl (167 kB)\n",
      "Using cached charset_normalizer-3.4.0-cp310-cp310-manylinux_2_17_x86_64.manylinux2014_x86_64.whl (144 kB)\n",
      "Using cached idna-3.10-py3-none-any.whl (70 kB)\n",
      "Downloading pillow-11.0.0-cp310-cp310-manylinux_2_28_x86_64.whl (4.4 MB)\n",
      "\u001b[2K   \u001b[90m━━━━━━━━━━━━━━━━━━━━━━━━━━━━━━━━━━━━━━━━\u001b[0m \u001b[32m4.4/4.4 MB\u001b[0m \u001b[31m8.7 MB/s\u001b[0m eta \u001b[36m0:00:00\u001b[0ma \u001b[36m0:00:01\u001b[0m\n",
      "\u001b[?25hUsing cached urllib3-2.2.3-py3-none-any.whl (126 kB)\n",
      "Building wheels for collected packages: moviepy\n",
      "  Building wheel for moviepy (setup.py) ... \u001b[?25ldone\n",
      "\u001b[?25h  Created wheel for moviepy: filename=moviepy-1.0.3-py3-none-any.whl size=110711 sha256=1e564dd63be6727b259c8451f3f21a0760b639c20cfca681a0fc84431d7f1c59\n",
      "  Stored in directory: /home/sk/.cache/pip/wheels/96/32/2d/e10123bd88fbfc02fed53cc18c80a171d3c87479ed845fa7c1\n",
      "Successfully built moviepy\n",
      "Installing collected packages: urllib3, tqdm, pillow, imageio_ffmpeg, idna, decorator, charset-normalizer, certifi, requests, proglog, imageio, moviepy\n",
      "  Attempting uninstall: decorator\n",
      "    Found existing installation: decorator 5.1.1\n",
      "    Uninstalling decorator-5.1.1:\n",
      "      Successfully uninstalled decorator-5.1.1\n",
      "Successfully installed certifi-2024.8.30 charset-normalizer-3.4.0 decorator-4.4.2 idna-3.10 imageio-2.36.0 imageio_ffmpeg-0.5.1 moviepy-1.0.3 pillow-11.0.0 proglog-0.1.10 requests-2.32.3 tqdm-4.66.6 urllib3-2.2.3\n",
      "Note: you may need to restart the kernel to use updated packages.\n"
     ]
    }
   ],
   "source": [
    "%pip install moviepy"
   ]
  },
  {
   "cell_type": "code",
   "execution_count": 12,
   "metadata": {},
   "outputs": [
    {
     "name": "stdout",
     "output_type": "stream",
     "text": [
      "마지막 프레임이 성공적으로 저장되었습니다: /home/sk/Desktop/video/3.hw/Standard_Mode_A_dynamic_scene_where_an_beautif_1.jpg\n"
     ]
    }
   ],
   "source": [
    "# mp4 마지막프레임 jpg로 저장하기 \n",
    "import cv2\n",
    "import os\n",
    "\n",
    "# 비디오 파일의 절대 경로로 변환\n",
    "video_file = '~/Desktop/video/3.hw/Standard_Mode_A_dynamic_scene_where_an_beautif.mp4'\n",
    "video_path = os.path.expanduser(video_file)\n",
    "cap = cv2.VideoCapture(video_path)\n",
    "\n",
    "# 비디오 파일이 열리는지 확인\n",
    "if not cap.isOpened():\n",
    "    print(\"비디오 파일을 열 수 없습니다. 경로를 확인하세요.\")\n",
    "else:\n",
    "    # 비디오의 총 프레임 수 계산\n",
    "    total_frames = int(cap.get(cv2.CAP_PROP_FRAME_COUNT))\n",
    "\n",
    "    # 마지막 프레임으로 이동\n",
    "    if total_frames > 0:\n",
    "        cap.set(cv2.CAP_PROP_POS_FRAMES, total_frames - 1)\n",
    "        ret, frame = cap.read()\n",
    "\n",
    "        if ret:\n",
    "            # 저장할 이미지 경로 설정\n",
    "            base_output_path = os.path.splitext(os.path.expanduser(video_file))[0]\n",
    "            extension = '.jpg'\n",
    "            output_path = f\"{base_output_path}_1{extension}\"\n",
    "\n",
    "            # 파일 이름 중복 방지: 파일이 이미 존재하면 번호 증가\n",
    "            counter = 1\n",
    "            while os.path.exists(output_path):\n",
    "                counter += 1\n",
    "                output_path = f\"{base_output_path}_{counter}{extension}\"\n",
    "\n",
    "            # 이미지 저장\n",
    "            cv2.imwrite(output_path, frame)\n",
    "            print(f\"마지막 프레임이 성공적으로 저장되었습니다: {output_path}\")\n",
    "        else:\n",
    "            print(\"프레임을 읽는 데 실패했습니다.\")\n",
    "    else:\n",
    "        print(\"비디오 파일에 프레임이 없습니다.\")\n",
    "\n",
    "    # 비디오 객체 해제\n",
    "    cap.release()\n",
    "\n",
    "#영상 비율 확인하기\n",
    "import cv2\n",
    "import os\n",
    "\n",
    "# 비디오 파일 경로 설정\n",
    "video_file = os.path.expanduser('~/Desktop/video/1.2240 future female police/Standard_Mode_walking.mp4')\n",
    "cap = cv2.VideoCapture(video_file)\n",
    "\n",
    "if not cap.isOpened():\n",
    "    print(\"비디오 파일을 열 수 없습니다.\")\n",
    "else:\n",
    "    # 비디오의 해상도 가져오기\n",
    "    width = int(cap.get(cv2.CAP_PROP_FRAME_WIDTH))\n",
    "    height = int(cap.get(cv2.CAP_PROP_FRAME_HEIGHT))\n",
    "    aspect_ratio = width / height\n",
    "    fps = cap.get(cv2.CAP_PROP_FPS)\n",
    "\n",
    "    print(f\"해상도: {width}x{height}\")\n",
    "    print(f\"비율: {aspect_ratio:.2f} (가로:세로)\")\n",
    "    print(f\"FPS: {fps:.2f}\")\n",
    "\n",
    "cap.release()\n",
    "\n",
    "import os\n",
    "#1280*720으로 저장하기 \n",
    "# 비디오 파일 경로 설정\n",
    "video_file = os.path.expanduser('~/Desktop/video/1.2240/Standard_Mode_walking.mp4')\n",
    "base_output_file = os.path.expanduser('~/Desktop/video/1.2240/Standard_Mode_walking_resized')\n",
    "extension = '.mp4'\n",
    "output_file = f\"{base_output_file}{extension}\"\n",
    "\n",
    "# 파일 이름 중복 방지: 파일이 이미 존재하면 번호 증가\n",
    "counter = 1\n",
    "while os.path.exists(output_file):\n",
    "    output_file = f\"{base_output_file}{counter}{extension}\"\n",
    "    counter += 1\n",
    "\n",
    "# FFmpeg 명령어 실행\n",
    "resize_command = f\"ffmpeg -i {video_file} -vf scale=1280:720 {output_file}\"\n",
    "\n",
    "# 명령어 실행 및 결과 확인\n",
    "result = os.system(resize_command)\n",
    "\n",
    "if result == 0:\n",
    "    print(f\"비디오가 성공적으로 {output_file}에 저장되었습니다.\")\n",
    "else:\n",
    "    print(\"비디오 파일 저장에 실패했습니다. FFmpeg 명령어를 확인하세요.\")\n",
    "\n",
    "import cv2\n",
    "import os\n",
    "#1920*1080으로 저장하기 \n",
    "# 비디오 파일 경로 설정\n",
    "video_file = os.path.expanduser('~/Desktop/video/3.hw/Standard_Mode_Generated_Video (2).mp4')\n",
    "output_file = os.path.expanduser('~/Desktop/video/3.hw/Standard_Mode_Generated_Video (2)resized.mp4')\n",
    "\n",
    "cap = cv2.VideoCapture(video_file)\n",
    "\n",
    "if not cap.isOpened():\n",
    "    print(\"비디오 파일을 열 수 없습니다.\")\n",
    "else:\n",
    "    # 원본 비디오의 속성 가져오기\n",
    "    width = int(cap.get(cv2.CAP_PROP_FRAME_WIDTH))\n",
    "    height = int(cap.get(cv2.CAP_PROP_FRAME_HEIGHT))\n",
    "    fps = cap.get(cv2.CAP_PROP_FPS)\n",
    "\n",
    "    # 변경할 비율 설정 (16:9)\n",
    "    new_width = width\n",
    "    new_height = int(new_width / 16 * 9)\n",
    "\n",
    "    # 비디오 파일 쓰기 설정\n",
    "    fourcc = cv2.VideoWriter_fourcc(*'mp4v')  # 코덱 설정 ('mp4v'는 MP4 파일에 사용됨)\n",
    "    out = cv2.VideoWriter(output_file, fourcc, fps, (new_width, new_height))\n",
    "\n",
    "    # VideoWriter가 제대로 열렸는지 확인\n",
    "    if not out.isOpened():\n",
    "        print(\"VideoWriter 초기화에 실패했습니다. 코덱과 경로를 확인하세요.\")\n",
    "    else:\n",
    "        while True:\n",
    "            ret, frame = cap.read()\n",
    "            if not ret:\n",
    "                break\n",
    "\n",
    "            # 프레임을 새로운 비율로 리사이즈\n",
    "            resized_frame = cv2.resize(frame, (new_width, new_height))\n",
    "\n",
    "            # 리사이즈된 프레임을 출력 비디오에 저장\n",
    "            out.write(resized_frame)\n",
    "\n",
    "        print(f\"비디오가 성공적으로 {output_file}에 저장되었습니다.\")\n",
    "\n",
    "    # 객체 해제\n",
    "    cap.release()\n",
    "    out.release()\n",
    "\n",
    "# 파일이 성공적으로 저장되었는지 확인\n",
    "if os.path.exists(output_file):\n",
    "    print(f\"비디오 파일이 성공적으로 저장되었습니다: {output_file}\")\n",
    "else:\n",
    "    print(\"비디오 파일 저장에 실패했습니다. 코덱 설정이나 경로를 확인하세요.\")"
   ]
  },
  {
   "cell_type": "code",
   "execution_count": 13,
   "metadata": {},
   "outputs": [
    {
     "name": "stdout",
     "output_type": "stream",
     "text": [
      "해상도: 1152x896\n",
      "비율: 1.29 (가로:세로)\n",
      "FPS: 30.00\n"
     ]
    }
   ],
   "source": [
    "\n"
   ]
  },
  {
   "cell_type": "code",
   "execution_count": 15,
   "metadata": {},
   "outputs": [
    {
     "name": "stderr",
     "output_type": "stream",
     "text": [
      "ffmpeg version 4.2.7-0ubuntu0.1 Copyright (c) 2000-2022 the FFmpeg developers\n",
      "  built with gcc 9 (Ubuntu 9.4.0-1ubuntu1~20.04.1)\n",
      "  configuration: --prefix=/usr --extra-version=0ubuntu0.1 --toolchain=hardened --libdir=/usr/lib/x86_64-linux-gnu --incdir=/usr/include/x86_64-linux-gnu --arch=amd64 --enable-gpl --disable-stripping --enable-avresample --disable-filter=resample --enable-avisynth --enable-gnutls --enable-ladspa --enable-libaom --enable-libass --enable-libbluray --enable-libbs2b --enable-libcaca --enable-libcdio --enable-libcodec2 --enable-libflite --enable-libfontconfig --enable-libfreetype --enable-libfribidi --enable-libgme --enable-libgsm --enable-libjack --enable-libmp3lame --enable-libmysofa --enable-libopenjpeg --enable-libopenmpt --enable-libopus --enable-libpulse --enable-librsvg --enable-librubberband --enable-libshine --enable-libsnappy --enable-libsoxr --enable-libspeex --enable-libssh --enable-libtheora --enable-libtwolame --enable-libvidstab --enable-libvorbis --enable-libvpx --enable-libwavpack --enable-libwebp --enable-libx265 --enable-libxml2 --enable-libxvid --enable-libzmq --enable-libzvbi --enable-lv2 --enable-omx --enable-openal --enable-opencl --enable-opengl --enable-sdl2 --enable-libdc1394 --enable-libdrm --enable-libiec61883 --enable-nvenc --enable-chromaprint --enable-frei0r --enable-libx264 --enable-shared\n",
      "  libavutil      56. 31.100 / 56. 31.100\n",
      "  libavcodec     58. 54.100 / 58. 54.100\n",
      "  libavformat    58. 29.100 / 58. 29.100\n",
      "  libavdevice    58.  8.100 / 58.  8.100\n",
      "  libavfilter     7. 57.100 /  7. 57.100\n",
      "  libavresample   4.  0.  0 /  4.  0.  0\n",
      "  libswscale      5.  5.100 /  5.  5.100\n",
      "  libswresample   3.  5.100 /  3.  5.100\n",
      "  libpostproc    55.  5.100 / 55.  5.100\n",
      "Input #0, mov,mp4,m4a,3gp,3g2,mj2, from '/home/sk/Desktop/video/1.2240/Standard_Mode_walking.mp4':\n",
      "  Metadata:\n",
      "    minor_version   : 512\n",
      "    major_brand     : isom\n",
      "    compatible_brands: isomiso2avc1mp41\n",
      "    metadata1       : podSw0WNQWIxPXMiTL/5ft4GUh0L0YM5ls69i0Z5dljfqgG0ycaLrdP8PU+9hKF7XauQc0JwB2VL8+lETQRj0riKT4ssPK/qZg6ORaF3i/YkaEjc8ADc+8UB0NZ90J6X6Vduq8iIgBsNx64DtlT3rvNSPJw4JFAplSn3MJh4Nv2fBFyN7hOgoBTAB\n",
      "    metadata0       : ChtzZWN1cml0eS5rbGluZy5tZXRhX2VuY3J5cHQS8AGovVFLOU4e1IkPgeikx0jszvXErWBIbwZGVI8Q2zCp9F5I0cae8qSDfY5j3HhjLbjb+ufNaWXxHSnuSSTAHOth1vlrLRvUsOt4Wx3leUUpx/1eVrp+xxnWMx9XVOYvAYULc4cG54bDSuQ3JNVYIFbabh9BLGqZN5Lu91DwGQCdwa59UYrKDrKL8mmrT2m6IomHEVMI/OZ/fxYqFKsuX9D\n",
      "    encoder         : Lavf58.45.100\n",
      "  Duration: 00:00:05.10, start: 0.000000, bitrate: 9573 kb/s\n",
      "    Stream #0:0(und): Video: h264 (High) (avc1 / 0x31637661), yuv420p, 1152x896, 9568 kb/s, 30 fps, 30 tbr, 15360 tbn, 60 tbc (default)\n",
      "    Metadata:\n",
      "      handler_name    : VideoHandler\n",
      "Stream mapping:\n",
      "  Stream #0:0 -> #0:0 (h264 (native) -> h264 (libx264))\n",
      "Press [q] to stop, [?] for help\n",
      "[libx264 @ 0x55d6ebe25880] using cpu capabilities: MMX2 SSE2Fast SSSE3 SSE4.2 AVX FMA3 BMI2 AVX2\n",
      "[libx264 @ 0x55d6ebe25880] profile High, level 3.1\n",
      "[libx264 @ 0x55d6ebe25880] 264 - core 155 r2917 0a84d98 - H.264/MPEG-4 AVC codec - Copyleft 2003-2018 - http://www.videolan.org/x264.html - options: cabac=1 ref=3 deblock=1:0:0 analyse=0x3:0x113 me=hex subme=7 psy=1 psy_rd=1.00:0.00 mixed_ref=1 me_range=16 chroma_me=1 trellis=1 8x8dct=1 cqm=0 deadzone=21,11 fast_pskip=1 chroma_qp_offset=-2 threads=22 lookahead_threads=3 sliced_threads=0 nr=0 decimate=1 interlaced=0 bluray_compat=0 constrained_intra=0 bframes=3 b_pyramid=2 b_adapt=1 b_bias=0 direct=1 weightb=1 open_gop=0 weightp=2 keyint=250 keyint_min=25 scenecut=40 intra_refresh=0 rc_lookahead=40 rc=crf mbtree=1 crf=23.0 qcomp=0.60 qpmin=0 qpmax=69 qpstep=4 ip_ratio=1.40 aq=1:1.00\n",
      "Output #0, mp4, to '/home/sk/Desktop/video/1.2240/Standard_Mode_walking_resized.mp4':\n",
      "  Metadata:\n",
      "    minor_version   : 512\n",
      "    major_brand     : isom\n",
      "    compatible_brands: isomiso2avc1mp41\n",
      "    metadata1       : podSw0WNQWIxPXMiTL/5ft4GUh0L0YM5ls69i0Z5dljfqgG0ycaLrdP8PU+9hKF7XauQc0JwB2VL8+lETQRj0riKT4ssPK/qZg6ORaF3i/YkaEjc8ADc+8UB0NZ90J6X6Vduq8iIgBsNx64DtlT3rvNSPJw4JFAplSn3MJh4Nv2fBFyN7hOgoBTAB\n",
      "    metadata0       : ChtzZWN1cml0eS5rbGluZy5tZXRhX2VuY3J5cHQS8AGovVFLOU4e1IkPgeikx0jszvXErWBIbwZGVI8Q2zCp9F5I0cae8qSDfY5j3HhjLbjb+ufNaWXxHSnuSSTAHOth1vlrLRvUsOt4Wx3leUUpx/1eVrp+xxnWMx9XVOYvAYULc4cG54bDSuQ3JNVYIFbabh9BLGqZN5Lu91DwGQCdwa59UYrKDrKL8mmrT2m6IomHEVMI/OZ/fxYqFKsuX9D\n",
      "    encoder         : Lavf58.29.100\n",
      "    Stream #0:0(und): Video: h264 (libx264) (avc1 / 0x31637661), yuv420p, 1280x720, q=-1--1, 30 fps, 15360 tbn, 30 tbc (default)\n",
      "    Metadata:\n",
      "      handler_name    : VideoHandler\n",
      "      encoder         : Lavc58.54.100 libx264\n",
      "    Side data:\n",
      "      cpb: bitrate max/min/avg: 0/0/0 buffer size: 0 vbv_delay: -1\n",
      "frame=  134 fps=0.0 q=29.0 size=     256kB time=00:00:02.16 bitrate= 968.1kbits/s speed=4.32x    \r"
     ]
    },
    {
     "name": "stdout",
     "output_type": "stream",
     "text": [
      "비디오가 성공적으로 /home/sk/Desktop/video/1.2240/Standard_Mode_walking_resized.mp4에 저장되었습니다.\n"
     ]
    },
    {
     "name": "stderr",
     "output_type": "stream",
     "text": [
      "frame=  153 fps=0.0 q=-1.0 Lsize=     821kB time=00:00:05.00 bitrate=1344.8kbits/s speed=6.59x    \n",
      "video:818kB audio:0kB subtitle:0kB other streams:0kB global headers:0kB muxing overhead: 0.318909%\n",
      "[libx264 @ 0x55d6ebe25880] frame I:1     Avg QP:23.64  size: 39034\n",
      "[libx264 @ 0x55d6ebe25880] frame P:38    Avg QP:23.61  size: 14979\n",
      "[libx264 @ 0x55d6ebe25880] frame B:114   Avg QP:26.57  size:  2008\n",
      "[libx264 @ 0x55d6ebe25880] consecutive B-frames:  0.7%  0.0%  0.0% 99.3%\n",
      "[libx264 @ 0x55d6ebe25880] mb I  I16..4: 14.8% 73.4% 11.8%\n",
      "[libx264 @ 0x55d6ebe25880] mb P  I16..4:  1.7%  4.6%  0.4%  P16..4: 52.9% 16.1%  6.4%  0.0%  0.0%    skip:18.0%\n",
      "[libx264 @ 0x55d6ebe25880] mb B  I16..4:  0.0%  0.0%  0.0%  B16..8: 29.4%  0.9%  0.1%  direct: 0.3%  skip:69.3%  L0:31.7% L1:62.9% BI: 5.5%\n",
      "[libx264 @ 0x55d6ebe25880] 8x8 transform intra:70.2% inter:86.1%\n",
      "[libx264 @ 0x55d6ebe25880] coded y,uvDC,uvAC intra: 52.5% 63.4% 20.8% inter: 8.1% 12.5% 0.4%\n",
      "[libx264 @ 0x55d6ebe25880] i16 v,h,dc,p: 13% 29%  7% 52%\n",
      "[libx264 @ 0x55d6ebe25880] i8 v,h,dc,ddl,ddr,vr,hd,vl,hu: 17% 21% 16%  4%  8%  8% 10%  7%  7%\n",
      "[libx264 @ 0x55d6ebe25880] i4 v,h,dc,ddl,ddr,vr,hd,vl,hu: 24% 23% 10%  6%  8%  9% 10%  7%  5%\n",
      "[libx264 @ 0x55d6ebe25880] i8c dc,h,v,p: 48% 24% 19%  9%\n",
      "[libx264 @ 0x55d6ebe25880] Weighted P-Frames: Y:0.0% UV:0.0%\n",
      "[libx264 @ 0x55d6ebe25880] ref P L0: 56.9% 15.4% 23.2%  4.5%\n",
      "[libx264 @ 0x55d6ebe25880] ref B L0: 95.2%  4.2%  0.6%\n",
      "[libx264 @ 0x55d6ebe25880] ref B L1: 99.2%  0.8%\n",
      "[libx264 @ 0x55d6ebe25880] kb/s:1313.20\n"
     ]
    }
   ],
   "source": [
    "\n"
   ]
  },
  {
   "cell_type": "code",
   "execution_count": 7,
   "metadata": {},
   "outputs": [
    {
     "name": "stdout",
     "output_type": "stream",
     "text": [
      "비디오가 성공적으로 /home/sk/Desktop/video/3.hw/Standard_Mode_Generated_Video (2)resized.mp4에 저장되었습니다.\n",
      "비디오 파일이 성공적으로 저장되었습니다: /home/sk/Desktop/video/3.hw/Standard_Mode_Generated_Video (2)resized.mp4\n"
     ]
    }
   ],
   "source": [
    "\n",
    "\n"
   ]
  }
 ],
 "metadata": {
  "kernelspec": {
   "display_name": "mp4tojpeg1",
   "language": "python",
   "name": "python3"
  },
  "language_info": {
   "codemirror_mode": {
    "name": "ipython",
    "version": 3
   },
   "file_extension": ".py",
   "mimetype": "text/x-python",
   "name": "python",
   "nbconvert_exporter": "python",
   "pygments_lexer": "ipython3",
   "version": "3.10.0"
  }
 },
 "nbformat": 4,
 "nbformat_minor": 2
}
