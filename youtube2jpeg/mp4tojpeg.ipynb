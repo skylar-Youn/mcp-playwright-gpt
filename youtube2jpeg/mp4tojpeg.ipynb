{
 "cells": [
  {
   "cell_type": "code",
   "execution_count": 1,
   "metadata": {},
   "outputs": [
    {
     "name": "stdout",
     "output_type": "stream",
     "text": [
      "Collecting opencv-python\n",
      "  Using cached opencv_python-4.10.0.84-cp37-abi3-manylinux_2_17_x86_64.manylinux2014_x86_64.whl.metadata (20 kB)\n",
      "Collecting numpy>=1.21.2 (from opencv-python)\n",
      "  Using cached numpy-2.1.2-cp310-cp310-manylinux_2_17_x86_64.manylinux2014_x86_64.whl.metadata (60 kB)\n",
      "Using cached opencv_python-4.10.0.84-cp37-abi3-manylinux_2_17_x86_64.manylinux2014_x86_64.whl (62.5 MB)\n",
      "Using cached numpy-2.1.2-cp310-cp310-manylinux_2_17_x86_64.manylinux2014_x86_64.whl (16.3 MB)\n",
      "Installing collected packages: numpy, opencv-python\n",
      "Successfully installed numpy-2.1.2 opencv-python-4.10.0.84\n",
      "Note: you may need to restart the kernel to use updated packages.\n"
     ]
    }
   ],
   "source": [
    "%pip install opencv-python\n"
   ]
  },
  {
   "cell_type": "code",
   "execution_count": 3,
   "metadata": {},
   "outputs": [
    {
     "name": "stdout",
     "output_type": "stream",
     "text": [
      "Requirement already satisfied: opencv-python in /home/sk/anaconda3/envs/mp4tojpeg1/lib/python3.10/site-packages (4.10.0.84)\n",
      "Requirement already satisfied: numpy>=1.21.2 in /home/sk/anaconda3/envs/mp4tojpeg1/lib/python3.10/site-packages (from opencv-python) (2.1.2)\n",
      "Note: you may need to restart the kernel to use updated packages.\n"
     ]
    }
   ],
   "source": [
    "\n",
    "%pip install --upgrade opencv-python\n",
    "\n",
    "#sconda create --name mp4tojpeg1 python=3.10.0"
   ]
  },
  {
   "cell_type": "code",
   "execution_count": 6,
   "metadata": {},
   "outputs": [
    {
     "name": "stdout",
     "output_type": "stream",
     "text": [
      "마지막 프레임이 성공적으로 저장되었습니다: /home/sk/Desktop/video/2.xman/Standard_Mode_Generated_Video0_1.jpg\n"
     ]
    }
   ],
   "source": [
    "import cv2\n",
    "import os\n",
    "\n",
    "# 비디오 파일의 절대 경로로 변환\n",
    "video_file = '~/Desktop/video/2.xman/Standard_Mode_Generated_Video1.mp4'\n",
    "video_path = os.path.expanduser(video_file)\n",
    "cap = cv2.VideoCapture(video_path)\n",
    "\n",
    "# 비디오 파일이 열리는지 확인\n",
    "if not cap.isOpened():\n",
    "    print(\"비디오 파일을 열 수 없습니다. 경로를 확인하세요.\")\n",
    "else:\n",
    "    # 비디오의 총 프레임 수 계산\n",
    "    total_frames = int(cap.get(cv2.CAP_PROP_FRAME_COUNT))\n",
    "\n",
    "    # 마지막 프레임으로 이동\n",
    "    if total_frames > 0:\n",
    "        cap.set(cv2.CAP_PROP_POS_FRAMES, total_frames - 1)\n",
    "        ret, frame = cap.read()\n",
    "\n",
    "        if ret:\n",
    "            # 저장할 이미지 경로 설정\n",
    "            base_output_path = os.path.splitext(os.path.expanduser(video_file))[0]\n",
    "            extension = '.jpg'\n",
    "            output_path = f\"{base_output_path}_1{extension}\"\n",
    "\n",
    "            # 파일 이름 중복 방지: 파일이 이미 존재하면 번호 증가\n",
    "            counter = 1\n",
    "            while os.path.exists(output_path):\n",
    "                counter += 1\n",
    "                output_path = f\"{base_output_path}_{counter}{extension}\"\n",
    "\n",
    "            # 이미지 저장\n",
    "            cv2.imwrite(output_path, frame)\n",
    "            print(f\"마지막 프레임이 성공적으로 저장되었습니다: {output_path}\")\n",
    "        else:\n",
    "            print(\"프레임을 읽는 데 실패했습니다.\")\n",
    "    else:\n",
    "        print(\"비디오 파일에 프레임이 없습니다.\")\n",
    "\n",
    "    # 비디오 객체 해제\n",
    "    cap.release()\n",
    "\n",
    "\n"
   ]
  }
 ],
 "metadata": {
  "kernelspec": {
   "display_name": "mp4tojpeg1",
   "language": "python",
   "name": "python3"
  },
  "language_info": {
   "codemirror_mode": {
    "name": "ipython",
    "version": 3
   },
   "file_extension": ".py",
   "mimetype": "text/x-python",
   "name": "python",
   "nbconvert_exporter": "python",
   "pygments_lexer": "ipython3",
   "version": "3.10.0"
  }
 },
 "nbformat": 4,
 "nbformat_minor": 2
}
